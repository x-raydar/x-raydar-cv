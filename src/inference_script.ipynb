{
 "cells": [
  {
   "cell_type": "code",
   "execution_count": null,
   "id": "ef1f4154",
   "metadata": {},
   "outputs": [],
   "source": [
    "# Sample inference script for calling model on a test DICOM"
   ]
  },
  {
   "cell_type": "code",
   "execution_count": 1,
   "id": "8bf10e79",
   "metadata": {},
   "outputs": [],
   "source": [
    "import sys\n",
    "import os\n",
    "import argparse\n",
    "import pydicom as pydicom\n",
    "from pydicom.errors import InvalidDicomError\n",
    "import json\n",
    "import utils.dicom_utils as dicom_utils\n",
    "import model_20210820_XNet38MS.predict as predict"
   ]
  },
  {
   "cell_type": "code",
   "execution_count": 2,
   "id": "70cd20ec",
   "metadata": {},
   "outputs": [
    {
     "name": "stdout",
     "output_type": "stream",
     "text": [
      "INFO: Model [ XNet38_urg ] ready\n",
      "INFO: Model [ XNet38_urg ] ready\n",
      "INFO: Model [ XNet38_urg ] ready\n"
     ]
    }
   ],
   "source": [
    "model = predict.build_model()"
   ]
  },
  {
   "cell_type": "code",
   "execution_count": 3,
   "id": "8cf8c489",
   "metadata": {},
   "outputs": [
    {
     "data": {
      "text/plain": [
       "{'AI_urgency': 'non-urgent',\n",
       " 'AI_prediction': {'abnormal_non_clinically_important': 0.2855033874511719,\n",
       "  'aortic_calcification': 0.009742516092956066,\n",
       "  'apical_changes': 0.01646980084478855,\n",
       "  'atelectasis': 0.03189646825194359,\n",
       "  'axillary_abnormality': 0.0743657723069191,\n",
       "  'bronchial_changes': 0.06539680808782578,\n",
       "  'bulla': 0.0071501582860946655,\n",
       "  'cardiomegaly': 0.06969815492630005,\n",
       "  'cavity': 0.00920560210943222,\n",
       "  'clavicle_fracture': 0.01725003309547901,\n",
       "  'consolidation': 0.040237218141555786,\n",
       "  'cardiac_calcification': 0.002619685372337699,\n",
       "  'dextrocardia': 0.00881686620414257,\n",
       "  'dilated_bowel': 0.0424986369907856,\n",
       "  'emphysema': 0.03784451633691788,\n",
       "  'ground_glass_opacification': 0.012992210686206818,\n",
       "  'hemidiaphragm_elevated': 0.03217300772666931,\n",
       "  'hernia': 0.016293926164507866,\n",
       "  'hyperexpanded_lungs': 0.1289665251970291,\n",
       "  'interstitial_shadowing': 0.021830255165696144,\n",
       "  'mediastinum_displaced': 0.3487071990966797,\n",
       "  'mediastinum_widened': 0.03552290424704552,\n",
       "  'object': 0.07176118344068527,\n",
       "  'paraspinal_mass': 0.002903139218688011,\n",
       "  'paratracheal_hilar_enlargement': 0.06073110178112984,\n",
       "  'parenchymal_lesion': 0.05591290071606636,\n",
       "  'pleural_abnormality': 0.02996431291103363,\n",
       "  'pleural_effusion': 0.011427800171077251,\n",
       "  'pneumomediastinum': 0.0018950073281303048,\n",
       "  'pneumoperitoneum': 0.010980300605297089,\n",
       "  'pneumothorax': 0.013296826742589474,\n",
       "  'rib_fracture': 0.04263549670577049,\n",
       "  'rib_lesion': 0.2930315434932709,\n",
       "  'scoliosis': 0.9939655661582947,\n",
       "  'subcutaneous_emphysema': 0.00328680407255888,\n",
       "  'tortuosity_aorta': 0.02546372450888157,\n",
       "  'Pulmonary_bloodflow_redis.': 0.013137186877429485,\n",
       "  'volume_loss': 0.011409458704292774}}"
      ]
     },
     "execution_count": 3,
     "metadata": {},
     "output_type": "execute_result"
    }
   ],
   "source": [
    "filename = '../demo_data/04f72062c19d9cd7a55519708aa2cc58b5e52b52' # test DICOM\n",
    "\n",
    "dicom = pydicom.read_file(filename)\n",
    "image_original = dicom_utils.img_clean(dicom)\n",
    "predict.main(image_original, model)"
   ]
  },
  {
   "cell_type": "code",
   "execution_count": null,
   "id": "65bf595f",
   "metadata": {},
   "outputs": [],
   "source": []
  }
 ],
 "metadata": {
  "kernelspec": {
   "display_name": "Python 3 (ipykernel)",
   "language": "python",
   "name": "python3"
  },
  "language_info": {
   "codemirror_mode": {
    "name": "ipython",
    "version": 3
   },
   "file_extension": ".py",
   "mimetype": "text/x-python",
   "name": "python",
   "nbconvert_exporter": "python",
   "pygments_lexer": "ipython3",
   "version": "3.7.15"
  }
 },
 "nbformat": 4,
 "nbformat_minor": 5
}
